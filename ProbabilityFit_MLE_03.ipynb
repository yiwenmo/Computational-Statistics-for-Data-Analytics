{
 "cells": [
  {
   "cell_type": "code",
   "execution_count": 1,
   "metadata": {},
   "outputs": [],
   "source": [
    "from scipy.stats import gamma\n",
    "import numpy as np\n",
    "import matplotlib.pyplot as plt\n",
    "import math"
   ]
  },
  {
   "cell_type": "markdown",
   "metadata": {},
   "source": [
    "### A tutorial on formulate likelihood function to estimate parameters for given probability distributions"
   ]
  },
  {
   "cell_type": "markdown",
   "metadata": {},
   "source": [
    "#### Let's try to first sample some gamma distributed random variables with shape = 2.0, scale = 0.5\n",
    "\n",
    "See: https://docs.scipy.org/doc/scipy/reference/generated/scipy.stats.gamma.html\n",
    "\n",
    "gamma.rvs(a, loc=0, scale=1, size=1, random_state=None)"
   ]
  },
  {
   "cell_type": "code",
   "execution_count": 2,
   "metadata": {},
   "outputs": [
    {
     "data": {
      "text/plain": [
       "array([2.56941479, 1.11924046, 2.71356614, 0.34829322, 0.76846576,\n",
       "       1.12746501, 1.42743348, 0.91436753, 1.15393596, 1.06780852,\n",
       "       2.21764387, 0.70779536, 0.03299114, 1.33045069, 3.32481768,\n",
       "       0.20294742, 2.26596274, 2.18714187, 0.38159363, 0.09717934,\n",
       "       1.90646366, 1.87535393, 0.32320233, 0.2117172 , 0.54574625,\n",
       "       0.5813365 , 0.16537881, 0.70341503, 0.37865572, 1.10885753,\n",
       "       0.81527384, 1.14152566, 0.48727984, 0.62043045, 0.41093844,\n",
       "       0.14190457, 0.16182469, 1.16917428, 1.39811415, 0.91939499,\n",
       "       1.1209578 , 0.46484441, 0.64797075, 0.8701162 , 0.28480508,\n",
       "       1.56054828, 1.17150582, 0.18302603, 1.84931438, 0.72250429,\n",
       "       0.59923559, 1.89768437, 1.08518221, 1.37769199, 0.91796851,\n",
       "       1.12068073, 0.25284435, 1.6287652 , 0.59384183, 0.43797797,\n",
       "       2.71356751, 1.5656713 , 0.67203275, 1.4660516 , 1.29589044,\n",
       "       1.58160974, 1.1006961 , 0.306059  , 1.0410501 , 2.0162011 ,\n",
       "       0.58282071, 2.68770552, 0.42860323, 1.23213145, 0.48659228,\n",
       "       1.35066921, 1.11598227, 0.30816238, 0.94561704, 1.31412858,\n",
       "       0.37207279, 1.78231067, 0.79005516, 2.50069491, 0.7713843 ,\n",
       "       0.47423768, 0.29042062, 0.5814656 , 0.55142219, 2.80240417,\n",
       "       0.26620322, 1.50582724, 0.34008191, 0.18102959, 1.58027642,\n",
       "       1.05646682, 0.32813983, 1.35527135, 0.41487384, 0.46277431])"
      ]
     },
     "execution_count": 2,
     "metadata": {},
     "output_type": "execute_result"
    }
   ],
   "source": [
    "data_gamma = gamma.rvs(a = 2.0, loc = 0.0, scale = 0.5, size=100, random_state=0)\n",
    "\n",
    "data_gamma"
   ]
  },
  {
   "cell_type": "markdown",
   "metadata": {},
   "source": [
    "#### For continuous distribution, scipy.stats provides _fit_ function to help derive the parameters, so we can use it directly. \n",
    "\n",
    "gamma.fit(data, *args, * *kwds)"
   ]
  },
  {
   "cell_type": "markdown",
   "metadata": {},
   "source": [
    "Let's first try the _fit_ function without any additional arguments or keywords.\n",
    "\n",
    "See: https://docs.scipy.org/doc/scipy/reference/generated/scipy.stats.rv_continuous.fit.html#scipy.stats.rv_continuous.fit"
   ]
  },
  {
   "cell_type": "code",
   "execution_count": 3,
   "metadata": {},
   "outputs": [
    {
     "data": {
      "text/plain": [
       "(1.798216877996928, 0.009012144269749799, 0.5646102095488708)"
      ]
     },
     "execution_count": 3,
     "metadata": {},
     "output_type": "execute_result"
    }
   ],
   "source": [
    "result = gamma.fit(data_gamma)\n",
    "\n",
    "result"
   ]
  },
  {
   "cell_type": "markdown",
   "metadata": {},
   "source": [
    "In the result (a tuple type), these three values represent _shape_, _location and _scale_, respectively. \n",
    "\n",
    "As you can see, the parameter _location_ is not zero. This has a small impact to the result. Because we know that _location_ should be zero, we can improve the result by forcing location to zero. This can be done by assigning keyword _floc_ to zero."
   ]
  },
  {
   "cell_type": "code",
   "execution_count": 4,
   "metadata": {},
   "outputs": [
    {
     "data": {
      "text/plain": [
       "(1.8570921647758458, 0.0, 0.5515645650086407)"
      ]
     },
     "execution_count": 4,
     "metadata": {},
     "output_type": "execute_result"
    }
   ],
   "source": [
    "result_floc = gamma.fit(data_gamma, floc = 0.0)\n",
    "\n",
    "result_floc"
   ]
  },
  {
   "cell_type": "markdown",
   "metadata": {},
   "source": [
    "As you can see, the fitting result has been further improved. \n",
    "\n",
    "If you further fix the _scale_, an even better estimate of _shape_ can be obtained."
   ]
  },
  {
   "cell_type": "code",
   "execution_count": 5,
   "metadata": {},
   "outputs": [
    {
     "data": {
      "text/plain": [
       "(2.002484913878029, 0.0, 0.5)"
      ]
     },
     "execution_count": 5,
     "metadata": {},
     "output_type": "execute_result"
    }
   ],
   "source": [
    "result_floc_fscale = gamma.fit(data_gamma, floc = 0.0, fscale = 0.5)\n",
    "\n",
    "result_floc_fscale"
   ]
  },
  {
   "cell_type": "code",
   "execution_count": 6,
   "metadata": {},
   "outputs": [
    {
     "data": {
      "image/png": "[encoded data removed]",
      "text/plain": [
       "<Figure size 720x288 with 1 Axes>"
      ]
     },
     "metadata": {
      "needs_background": "light"
     },
     "output_type": "display_data"
    }
   ],
   "source": [
    "fig = plt.figure(figsize=(10, 4))\n",
    "\n",
    "x = np.linspace(0, 4, 100)\n",
    "y = gamma.pdf(x, result[0], result[1], result[2]) # unknown the location and shape\n",
    "y_floc = gamma.pdf(x, result_floc[0], result_floc[1], result_floc[2]) # given location\n",
    "y_floc_fscale = gamma.pdf(x, result_floc_fscale[0], result_floc_fscale[1], result_floc_fscale[2]) # given location and shape\n",
    "\n",
    "ax = fig.add_subplot(111)\n",
    "\n",
    "freqs, bins, patches = ax.hist(data_gamma, density = True)\n",
    "\n",
    "ax.plot(x, y, label='Gamma fit')\n",
    "ax.plot(x, y_floc, label='Gamma fit (floc)')\n",
    "ax.plot(x, y_floc_fscale, label='Gamma fit (floc, fscale)')\n",
    "\n",
    "plt.legend(frameon = False)\n",
    "plt.show()"
   ]
  },
  {
   "cell_type": "markdown",
   "metadata": {},
   "source": [
    "#### Try to run the above example with more samples!"
   ]
  }
 ],
 "metadata": {
  "kernelspec": {
   "display_name": "Python 3 (ipykernel)",
   "language": "python",
   "name": "python3"
  },
  "language_info": {
   "codemirror_mode": {
    "name": "ipython",
    "version": 3
   },
   "file_extension": ".py",
   "mimetype": "text/x-python",
   "name": "python",
   "nbconvert_exporter": "python",
   "pygments_lexer": "ipython3",
   "version": "3.8.8"
  }
 },
 "nbformat": 4,
 "nbformat_minor": 4
}
