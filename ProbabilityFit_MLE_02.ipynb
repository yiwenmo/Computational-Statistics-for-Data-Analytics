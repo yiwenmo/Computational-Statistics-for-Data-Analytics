{
 "cells": [
  {
   "cell_type": "code",
   "execution_count": 78,
   "metadata": {},
   "outputs": [],
   "source": [
    "from scipy.stats import binom\n",
    "import numpy as np\n",
    "import matplotlib.pyplot as plt\n",
    "import math"
   ]
  },
  {
   "cell_type": "markdown",
   "metadata": {},
   "source": [
    "### A tutorial on formulate likelihood function to estimate parameters for given probability distributions"
   ]
  },
  {
   "cell_type": "markdown",
   "metadata": {},
   "source": [
    "#### Let's continue with the bias coin example by sampling some data from a Binomial distribution with known parameters (n = 10, p = 0.7).\n",
    "\n",
    "binom.rvs(n, p, loc=0, size=1, random_state=None)"
   ]
  },
  {
   "cell_type": "code",
   "execution_count": 91,
   "metadata": {},
   "outputs": [
    {
     "data": {
      "text/plain": [
       "array([ 7,  6,  7,  7,  7,  7,  7,  5,  4,  7,  6,  7,  7,  5,  9,  9, 10,\n",
       "        6,  6,  5,  4,  6,  7,  6,  9,  7,  9,  5,  7,  7,  8,  6,  7,  7,\n",
       "       10,  7,  7,  7,  5,  6,  8,  7,  6,  9,  6,  6,  8,  9,  8,  8,  7,\n",
       "        7,  4,  9,  8,  8,  6,  8,  7,  8,  8,  9,  6,  9,  8,  8,  6,  9,\n",
       "        6,  9,  4,  7,  4,  7,  6,  9,  8,  9,  8,  9,  8,  7,  9,  6,  7,\n",
       "        8,  7,  9,  7,  5,  8,  6,  9,  6,  8,  8,  7, 10,  6, 10])"
      ]
     },
     "execution_count": 91,
     "metadata": {},
     "output_type": "execute_result"
    }
   ],
   "source": [
    "data_binom = binom.rvs(n = 10, p = 0.7, loc=0, size=100, random_state=0)\n",
    "\n",
    "data_binom"
   ]
  },
  {
   "cell_type": "markdown",
   "metadata": {},
   "source": [
    "#### Define a function to calculate logorithm likelihood for Binomial distribution, where $p$ is the success rate to be determined (it is a scalar value), $n$ is the number of tosses (in our case, it is a constant $n=10$), and $y$ is the result of the experiments.\n",
    "\n",
    "Here we use the scipy.stats.binom's _logpmf_ function to calculate the logarithm of binomial pmf. "
   ]
  },
  {
   "cell_type": "code",
   "execution_count": 92,
   "metadata": {},
   "outputs": [],
   "source": [
    "def log_likelihood_binomdist_N(p, n, y):\n",
    "    return binom.logpmf(k=y, n = n, p = p).sum()"
   ]
  },
  {
   "cell_type": "markdown",
   "metadata": {},
   "source": [
    "Let's test the log likelihood function with $n = 10$, data (_data_binom_) and an arbitrary success rate (e.g. $p = 0.1$)."
   ]
  },
  {
   "cell_type": "code",
   "execution_count": 93,
   "metadata": {},
   "outputs": [
    {
     "data": {
      "text/plain": [
       "-1265.805704965012"
      ]
     },
     "execution_count": 93,
     "metadata": {},
     "output_type": "execute_result"
    }
   ],
   "source": [
    "L_Binom = log_likelihood_binomdist_N(n=10, p = 0.1, y = data_binom)\n",
    "\n",
    "L_Binom"
   ]
  },
  {
   "cell_type": "markdown",
   "metadata": {},
   "source": [
    "We can also test the log likelihood function with a range of success rate values. This would allow is to see the change of the log likelihood and find the $p$ that leads to the maximum (log) likelihood."
   ]
  },
  {
   "cell_type": "code",
   "execution_count": 94,
   "metadata": {},
   "outputs": [
    {
     "data": {
      "image/png": "[encoded data removed]",
      "text/plain": [
       "<Figure size 720x288 with 1 Axes>"
      ]
     },
     "metadata": {
      "needs_background": "light"
     },
     "output_type": "display_data"
    }
   ],
   "source": [
    "fig = plt.figure(figsize=(10, 4))\n",
    "ax = fig.add_subplot(111)\n",
    "\n",
    "w = np.linspace(0,1,100)\n",
    "\n",
    "L_Binoms = []\n",
    "for p in w:\n",
    "    L_Binoms.append(log_likelihood_binomdist_N(p,n = 10,y = data_binom))\n",
    "\n",
    "ax.plot(w,L_Binoms, color='grey', label='$n=10$', marker='+', linestyle='dashed')\n",
    "ax.set_xlabel('Parameter $p$')\n",
    "ax.set_ylabel('Likelihood $L(p|n=10, y = data_binom)$')\n",
    "ax.set_xlim([0, 1])\n",
    "#ax.set_ylim([0.0, 0.4])\n",
    "ax.legend(frameon=False)\n",
    "\n",
    "plt.show()"
   ]
  },
  {
   "cell_type": "markdown",
   "metadata": {},
   "source": [
    "#### However, we cannot rely on _visual inspection_ all the time to derive our parameter. Instead, we may employ a numerical solver (minimiser) to help us identify the parameter."
   ]
  },
  {
   "cell_type": "markdown",
   "metadata": {},
   "source": [
    "To do this, let's import the _minimize_ function in the scipy.optimize module. This function incorporate a range of minimization algorithms into a single function, and you can specify the one you would like to use.\n",
    "\n",
    "See: https://docs.scipy.org/doc/scipy/reference/generated/scipy.optimize.minimize.html"
   ]
  },
  {
   "cell_type": "code",
   "execution_count": 95,
   "metadata": {},
   "outputs": [],
   "source": [
    "from scipy.optimize import minimize"
   ]
  },
  {
   "cell_type": "markdown",
   "metadata": {},
   "source": [
    "We need to slighly modify our likelihood function because the numerical solver is to minimize (instead of maximize). A _negative_ sign is added to our returned likelihood value."
   ]
  },
  {
   "cell_type": "code",
   "execution_count": 96,
   "metadata": {},
   "outputs": [],
   "source": [
    "def negative_log_likelihood_binomdist_N(p, n, y):\n",
    "    return -binom.logpmf(k=y, n = n, p = p).sum()"
   ]
  },
  {
   "cell_type": "markdown",
   "metadata": {},
   "source": [
    "Here, we use _Nelder-Mead_ algorithm. \n",
    "\n",
    "The inerface of the minimize function is as follow:\n",
    "\n",
    "scipy.optimize.minimize(fun, x0, args=(), method=None, jac=None, hess=None, hessp=None, bounds=None, constraints=(), tol=None, callback=None, options=None)\n",
    "\n",
    "where _fun_ is the target function, _x0_ is the initial guess of the parameters to be solved, _args_ are the rest of the parameters, and you can specifiy the algorithm you would like to use with _method_. \n",
    "\n",
    "In our case, _fun_ is the negative_log_likelihood_binomdist_N function, _x0_ can be arbitrarily assigned as initial guess for $p$, _args_ are $n = 10$ and data_binom. \n"
   ]
  },
  {
   "cell_type": "code",
   "execution_count": 97,
   "metadata": {},
   "outputs": [
    {
     "data": {
      "text/plain": [
       " final_simplex: (array([[0.71796875],\n",
       "       [0.71804688]]), array([177.67027959, 177.67028261]))\n",
       "           fun: 177.67027959218765\n",
       "       message: 'Optimization terminated successfully.'\n",
       "          nfev: 38\n",
       "           nit: 19\n",
       "        status: 0\n",
       "       success: True\n",
       "             x: array([0.71796875])"
      ]
     },
     "execution_count": 97,
     "metadata": {},
     "output_type": "execute_result"
    }
   ],
   "source": [
    "# Perform mle fitting\n",
    "result = minimize(negative_log_likelihood_binomdist_N, x0=0.1, args=(10, data_binom), method='Nelder-Mead')\n",
    "\n",
    "result"
   ]
  },
  {
   "cell_type": "markdown",
   "metadata": {},
   "source": [
    "The $p$ can then be derived (=result.x)"
   ]
  },
  {
   "cell_type": "code",
   "execution_count": 98,
   "metadata": {},
   "outputs": [
    {
     "name": "stdout",
     "output_type": "stream",
     "text": [
      "The p parameter we obtain from our samples is 0.7180\n"
     ]
    }
   ],
   "source": [
    "print(f'The p parameter we obtain from our samples is {result.x[0]:.4f}')"
   ]
  },
  {
   "cell_type": "code",
   "execution_count": null,
   "metadata": {},
   "outputs": [],
   "source": []
  }
 ],
 "metadata": {
  "kernelspec": {
   "display_name": "Python 3",
   "language": "python",
   "name": "python3"
  },
  "language_info": {
   "codemirror_mode": {
    "name": "ipython",
    "version": 3
   },
   "file_extension": ".py",
   "mimetype": "text/x-python",
   "name": "python",
   "nbconvert_exporter": "python",
   "pygments_lexer": "ipython3",
   "version": "3.8.8"
  }
 },
 "nbformat": 4,
 "nbformat_minor": 4
}
