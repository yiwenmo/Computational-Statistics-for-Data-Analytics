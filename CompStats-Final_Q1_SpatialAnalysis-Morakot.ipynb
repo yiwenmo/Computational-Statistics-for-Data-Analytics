{
 "cells": [
  {
   "cell_type": "markdown",
   "metadata": {},
   "source": [
    "### Q1. Spatial structural analysis is widely used to analyse the influence range of a given phenomenon. In the attached IMERG_HHL folder, you can find 30-min IMERG precipitation data for period of 2009/08/07 00:00 – 2009/08/09 00:00. Your tasks here are to perform spatial analyses and to calculate the characteristic range of Typhoon Morakot for the period it passed Taiwan (i.e. 2009/08/07 17:00 – 2009/08/08 08:00 UTC time) based upon the algorithm proposed in Ochoa-Rodriguez et al. (2015) (see Section 3.2.1 in the paper). \n",
    "\n",
    "### Ochoa-Rodriguez et al. (2015): https://www.sciencedirect.com/science/article/pii/S0022169415003856\n",
    "\n",
    "\n",
    "### Your specific tasks are:\n"
   ]
  },
  {
   "cell_type": "code",
   "execution_count": 12,
   "metadata": {},
   "outputs": [],
   "source": [
    "import numpy as np\n",
    "import gstools as gs\n",
    "import matplotlib.pyplot as plt\n",
    "import netCDF4 as nc\n",
    "\n",
    "from warnings import filterwarnings\n",
    "filterwarnings(action='ignore', category=DeprecationWarning, message='`np.bool` is a deprecated alias')"
   ]
  },
  {
   "cell_type": "markdown",
   "metadata": {},
   "source": [
    "#### 1.1. (15%) Derive climatological sample variogram using attached data files for the period of 2009/08/07 15:00 – 2009/08/08 08:00 (including image at 2009/08/08 08:00). Note that please use ‘degree’ directly as distance (if you use gstools, 'latlon=False' in vario_estimate)"
   ]
  },
  {
   "cell_type": "code",
   "execution_count": 13,
   "metadata": {},
   "outputs": [
    {
     "name": "stdout",
     "output_type": "stream",
     "text": [
      "(35, 41, 51)\n",
      "(51,)\n"
     ]
    }
   ],
   "source": [
    "# You may run the main loop here to:\n",
    "# 1. import rainfall data from each file\n",
    "import glob\n",
    "list_of_paths = glob.glob('./Data/IMERG-HHL/*.nc4', recursive=True)\n",
    "# list_of_paths[30] # check the image time for 8/7 15:00\n",
    "# list_of_paths[64] # check the image time for 8/8 08:00\n",
    "container = np.zeros((35,41,51)) # Make a 35 by 41 by 51 array, 65=time steps from 8/7 15:00\n",
    "for i in range(30, 65):\n",
    "    nc_fid = nc.Dataset(f'{list_of_paths[i]}')\n",
    "    # in nc_fid.variables we know that precipitationalCal have 3 dimensions but for only one time step [0,:,:]\n",
    "    rain = nc_fid.variables['precipitationCal'][:,:,:]\n",
    "    container[i-30,:,:] = rain\n",
    "\n",
    "\n",
    "# check the dimensions and variables\n",
    "# nc_fid.dimensions\n",
    "# nc_fid.variables\n",
    "\n",
    "# define value\n",
    "lat = nc_fid.variables['lat'][:]\n",
    "lon = nc_fid.variables['lon'][:]\n",
    "\n",
    "# check the shape of 3d arrray\n",
    "print(container.shape)\n",
    "print(lat.shape)"
   ]
  },
  {
   "cell_type": "code",
   "execution_count": 14,
   "metadata": {},
   "outputs": [
    {
     "name": "stdout",
     "output_type": "stream",
     "text": [
      "(51, 41)\n"
     ]
    },
    {
     "data": {
      "image/png": "[encoded data removed]",
      "text/plain": [
       "<Figure size 864x576 with 2 Axes>"
      ]
     },
     "metadata": {
      "needs_background": "light"
     },
     "output_type": "display_data"
    }
   ],
   "source": [
    "# plot precipitationCal of every time step to check the \n",
    "rain_map = container[25,:,:].copy()\n",
    "\n",
    "# Do transpose to move 'lon' to the 2nd dimension, and 'lat' to the 1st dimension\n",
    "rain_map = rain_map.T\n",
    "print(rain_map.shape)\n",
    "\n",
    "plt.rcParams[\"figure.figsize\"] = (12,8)\n",
    "\n",
    "# Use contourf to plot rain_map\n",
    "plt_ctrl=plt.contourf(lon,lat,rain_map)\n",
    "plt.colorbar(plt_ctrl,orientation='vertical')\n",
    "plt.title('IMERG precipitation')\n",
    "plt.set_cmap(cmap=plt.get_cmap('jet'))"
   ]
  },
  {
   "cell_type": "code",
   "execution_count": 6,
   "metadata": {},
   "outputs": [],
   "source": [
    "# 2. compute and 'normalise' sample variogram and collect them in a list-like container\n",
    "# get every time step's variogram\n",
    "list_variogram = []\n",
    "for i in range(0,35):\n",
    "    field = container[i].T.ravel()\n",
    "    # in order to let the xpos and ypos have the same with rain value\n",
    "#     xpos, ypos = np.meshgrid(lon, lat, indexing=\"ij\")\n",
    "    xpos, ypos = np.meshgrid(lon, lat)\n",
    "    xpos = xpos.ravel()\n",
    "    ypos = ypos.ravel()\n",
    "    # Empirical variogram\n",
    "    bin_center, gamma = gs.vario_estimate((xpos, ypos), field, latlon=False)\n",
    "    # Normalised gamma(variogram) by corresponding sample variance (range won't change)\n",
    "    gamma_nor = gamma/np.var(field)\n",
    "    list_variogram.append(gamma_nor)"
   ]
  },
  {
   "cell_type": "code",
   "execution_count": 5,
   "metadata": {},
   "outputs": [
    {
     "name": "stdout",
     "output_type": "stream",
     "text": [
      "[ 0.          3.96217984  6.92691498  9.59766197 12.1205649  14.38808704\n",
      " 16.25767564 17.94666337 19.23911805 20.31706097 21.4217834  22.40617262\n",
      " 23.35850072 24.14452506 24.78768678 25.46134106 26.19650559 26.79420694\n",
      " 27.4045895  28.08890894 28.80039193 29.55314477 30.33340866 31.21628228]\n",
      "Climatological Sample Variogram: [0.         0.11320514 0.19791186 0.27421891 0.34630185 0.4110882\n",
      " 0.46450502 0.51276181 0.54968909 0.58048746 0.61205095 0.64017636\n",
      " 0.66738573 0.68984357 0.70821962 0.72746689 0.74847159 0.76554877\n",
      " 0.78298827 0.80254026 0.82286834 0.84437556 0.86666882 0.89189378]\n",
      "Bin Center: [0.04446614 0.13339842 0.2223307  0.31126298 0.40019526 0.48912755\n",
      " 0.57805983 0.66699211 0.75592439 0.84485667 0.93378895 1.02272123\n",
      " 1.11165351 1.20058579 1.28951808 1.37845036 1.46738264 1.55631492\n",
      " 1.6452472  1.73417948 1.82311176 1.91204404 2.00097632 2.08990861]\n"
     ]
    }
   ],
   "source": [
    "# You may 'average' the normalised variograms here\n",
    "sum_variogram = np.sum(list_variogram, axis=0)\n",
    "# print(sum_variogram)\n",
    "\n",
    "# create a climatological sample variogram\n",
    "climatological_var = sum_variogram/35\n",
    "print(f'Climatological Sample Variogram: {climatological_var}')\n",
    "print(f'Bin Center: {bin_center}')"
   ]
  },
  {
   "cell_type": "code",
   "execution_count": 6,
   "metadata": {},
   "outputs": [],
   "source": [
    "# a = container[12].T.ravel()\n",
    "# # in order to let the xpos and ypos have the same with rain value\n",
    "# xpos, ypos = np.meshgrid(lon, lat, indexing=\"ij\")\n",
    "# xpos = xpos.ravel()\n",
    "# ypos = ypos.ravel()"
   ]
  },
  {
   "cell_type": "code",
   "execution_count": 7,
   "metadata": {},
   "outputs": [],
   "source": [
    "# Empirical variogram\n",
    "# bin_center, gamma = gs.vario_estimate((xpos, ypos), a, latlon=False)\n",
    "# print(f'Bin center: {bin_center}')\n",
    "# print(f'Gamma: {gamma}')\n",
    "# # Normalised by corresponding sample variance\n",
    "# gamma_nor = gamma/np.var(a)\n",
    "# print(f'Normalised Gamma: {gamma_nor}')\n",
    "# list_array = []\n",
    "# list_array.append(gamma)\n",
    "# list_array.append(gamma_nor)\n",
    "# np.sum(list_array, axis=0)"
   ]
  },
  {
   "cell_type": "markdown",
   "metadata": {},
   "source": [
    "#### 1.2. (5%) Fit this sample variogram with an exponential variogram model. Note that please use ‘degree’ directly as distance."
   ]
  },
  {
   "cell_type": "code",
   "execution_count": 8,
   "metadata": {},
   "outputs": [
    {
     "data": {
      "text/plain": [
       "({'var': 0.9561849417993625, 'len_scale': 0.9160184999816048, 'nugget': 0.0},\n",
       " array([[0.00026779, 0.00053444],\n",
       "        [0.00053444, 0.00118811]]))"
      ]
     },
     "execution_count": 8,
     "metadata": {},
     "output_type": "execute_result"
    }
   ],
   "source": [
    "# Fit the sample variogram with an exponential variogram model\n",
    "# Exponential variogram model is fitted to the climatological sample variogram\n",
    "fit_model_exp = gs.Exponential(dim=2)\n",
    "results, pcov = fit_model_exp.fit_variogram(bin_center, climatological_var, nugget=False)\n",
    "fit_model_exp.fit_variogram(bin_center, climatological_var, nugget=False)"
   ]
  },
  {
   "cell_type": "markdown",
   "metadata": {},
   "source": [
    "#### 1.3. (5%) Plot the sample and fitted variograms in a single chart."
   ]
  },
  {
   "cell_type": "code",
   "execution_count": 9,
   "metadata": {},
   "outputs": [
    {
     "name": "stdout",
     "output_type": "stream",
     "text": [
      "Exponential(dim=2, var=0.956, len_scale=0.916, nugget=0.0)\n",
      "0.9160184999816048\n"
     ]
    },
    {
     "data": {
      "image/png": "[encoded data removed]",
      "text/plain": [
       "<Figure size 864x576 with 1 Axes>"
      ]
     },
     "metadata": {
      "needs_background": "light"
     },
     "output_type": "display_data"
    }
   ],
   "source": [
    "fig=plt.figure()\n",
    "ax=fig.add_subplot(111)\n",
    "ax.plot(bin_center, fit_model_exp.variogram(bin_center), color='grey', label='Exponential Variogram Model (Fitted)')\n",
    "ax.scatter(bin_center, climatological_var, label='Climatological Sample Variogram (Sample)')\n",
    "\n",
    "plt.legend(frameon=False, loc='lower right')\n",
    "plt.title('Sample and fitted Variograms')\n",
    "print(fit_model_exp)\n",
    "print(results['len_scale'])"
   ]
  },
  {
   "cell_type": "markdown",
   "metadata": {},
   "source": [
    "#### 1.4. (5%) Derive the characteristic length (in degree).   "
   ]
  },
  {
   "cell_type": "code",
   "execution_count": 10,
   "metadata": {},
   "outputs": [
    {
     "data": {
      "text/plain": [
       "2.2973743979538646"
      ]
     },
     "execution_count": 10,
     "metadata": {},
     "output_type": "execute_result"
    }
   ],
   "source": [
    "# calculate characteristic length\n",
    "effective_range = results['len_scale']*3\n",
    "characteristic_range = effective_range*0.836\n",
    "characteristic_range"
   ]
  },
  {
   "cell_type": "markdown",
   "metadata": {},
   "source": [
    "#### 1.5. (5% bonus) You can get this bonus if you demonstrate that you can download IMERG HHL data files by yourself."
   ]
  },
  {
   "cell_type": "code",
   "execution_count": null,
   "metadata": {},
   "outputs": [],
   "source": [
    "# You may complete this task with python's 'requests' module\n"
   ]
  }
 ],
 "metadata": {
  "kernelspec": {
   "display_name": "Python 3 (ipykernel)",
   "language": "python",
   "name": "python3"
  },
  "language_info": {
   "codemirror_mode": {
    "name": "ipython",
    "version": 3
   },
   "file_extension": ".py",
   "mimetype": "text/x-python",
   "name": "python",
   "nbconvert_exporter": "python",
   "pygments_lexer": "ipython3",
   "version": "3.8.8"
  }
 },
 "nbformat": 4,
 "nbformat_minor": 4
}
