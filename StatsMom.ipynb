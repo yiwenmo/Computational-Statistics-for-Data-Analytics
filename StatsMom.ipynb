{
 "cells": [
  {
   "cell_type": "code",
   "execution_count": 1,
   "metadata": {},
   "outputs": [],
   "source": [
    "import pandas as pd\n",
    "import scipy.stats as stats #scipy is a large module."
   ]
  },
  {
   "cell_type": "markdown",
   "metadata": {},
   "source": [
    "### A practice to calculate stats moments using scipy.stats.moment module"
   ]
  },
  {
   "cell_type": "markdown",
   "metadata": {},
   "source": [
    "#### import example monthly rainfall data from 1993-2020"
   ]
  },
  {
   "cell_type": "code",
   "execution_count": 2,
   "metadata": {},
   "outputs": [
    {
     "data": {
      "text/html": [
       "<div>\n",
       "<style scoped>\n",
       "    .dataframe tbody tr th:only-of-type {\n",
       "        vertical-align: middle;\n",
       "    }\n",
       "\n",
       "    .dataframe tbody tr th {\n",
       "        vertical-align: top;\n",
       "    }\n",
       "\n",
       "    .dataframe thead th {\n",
       "        text-align: right;\n",
       "    }\n",
       "</style>\n",
       "<table border=\"1\" class=\"dataframe\">\n",
       "  <thead>\n",
       "    <tr style=\"text-align: right;\">\n",
       "      <th></th>\n",
       "      <th>date</th>\n",
       "      <th>Kobo</th>\n",
       "    </tr>\n",
       "  </thead>\n",
       "  <tbody>\n",
       "    <tr>\n",
       "      <th>0</th>\n",
       "      <td>1993/01</td>\n",
       "      <td>130.62800</td>\n",
       "    </tr>\n",
       "    <tr>\n",
       "      <th>1</th>\n",
       "      <td>1994/01</td>\n",
       "      <td>2.70096</td>\n",
       "    </tr>\n",
       "    <tr>\n",
       "      <th>2</th>\n",
       "      <td>1995/01</td>\n",
       "      <td>6.30129</td>\n",
       "    </tr>\n",
       "    <tr>\n",
       "      <th>3</th>\n",
       "      <td>1996/01</td>\n",
       "      <td>145.08200</td>\n",
       "    </tr>\n",
       "    <tr>\n",
       "      <th>4</th>\n",
       "      <td>1997/01</td>\n",
       "      <td>131.76000</td>\n",
       "    </tr>\n",
       "  </tbody>\n",
       "</table>\n",
       "</div>"
      ],
      "text/plain": [
       "      date       Kobo\n",
       "0  1993/01  130.62800\n",
       "1  1994/01    2.70096\n",
       "2  1995/01    6.30129\n",
       "3  1996/01  145.08200\n",
       "4  1997/01  131.76000"
      ]
     },
     "execution_count": 2,
     "metadata": {},
     "output_type": "execute_result"
    }
   ],
   "source": [
    "data = pd.read_csv('.\\ETH-Kobo_Jan.csv')\n",
    "\n",
    "data.head(5)"
   ]
  },
  {
   "cell_type": "markdown",
   "metadata": {},
   "source": [
    "#### Get rainfall data column"
   ]
  },
  {
   "cell_type": "code",
   "execution_count": 3,
   "metadata": {},
   "outputs": [
    {
     "name": "stdout",
     "output_type": "stream",
     "text": [
      "<PandasArray>\n",
      "[ 130.628,  2.70096,  6.30129,  145.082,   131.76,  163.011,  80.1149,\n",
      "  2.42727,  40.1517,   117.45,  51.4494,  146.583,  148.249,   7.2748,\n",
      "  76.2307,  48.2079,  45.4129,  21.4687,  98.6212,  10.3455,  70.8016,\n",
      "  33.1062,  23.1936,  119.227, 0.651993,  31.2631,  2.01456,  43.6482]\n",
      "Length: 28, dtype: float64\n"
     ]
    }
   ],
   "source": [
    "Rain_Month = data['Kobo']\n",
    "print(Rain_Month.array)"
   ]
  },
  {
   "cell_type": "markdown",
   "metadata": {},
   "source": [
    "#### Compute stats moments\n",
    "\n",
    "scipy.stats.moment(a, moment=1, axis=0, nan_policy='propagate')\n",
    "\n",
    "---\n",
    "***Centered moment means every value minus the mean, so the first centered moment will become 0.***"
   ]
  },
  {
   "cell_type": "code",
   "execution_count": 4,
   "metadata": {},
   "outputs": [
    {
     "name": "stdout",
     "output_type": "stream",
     "text": [
      "The first centered moment is 0.000\n",
      "The second centered moment is 2819.687\n",
      "The third centered moment is 66652.319\n"
     ]
    }
   ],
   "source": [
    "for s,i in zip(['first', 'second', 'third'], [1,2,3]):\n",
    "    cmom = stats.moment(Rain_Month.array, moment=i)\n",
    "    print(f\"The {s} centered moment is {cmom:.3f}\")  # f+string=可放變數，用大括號刮起來\n",
    "                                                    # .3f = 留小數點後第三位"
   ]
  },
  {
   "cell_type": "markdown",
   "metadata": {},
   "source": [
    "#### Demonstrate the relationship between 3rd centred moment and coefficient of skewness\n",
    "\n",
    "skewness = $\\frac{m_3}{m_{2}^{3/2}}$"
   ]
  },
  {
   "cell_type": "code",
   "execution_count": 5,
   "metadata": {},
   "outputs": [
    {
     "name": "stdout",
     "output_type": "stream",
     "text": [
      "The skewness calculated from user: 0.445\n"
     ]
    }
   ],
   "source": [
    "skew_usr = stats.moment(Rain_Month.array, moment=3)/(stats.moment(Rain_Month.array, moment=2)**(1.5))\n",
    "\n",
    "print(f\"The skewness calculated from user: {skew_usr:.3f}\")"
   ]
  },
  {
   "cell_type": "markdown",
   "metadata": {},
   "source": [
    "#### Verify with scipy.stats.skew function"
   ]
  },
  {
   "cell_type": "code",
   "execution_count": 6,
   "metadata": {},
   "outputs": [
    {
     "name": "stdout",
     "output_type": "stream",
     "text": [
      "The skewness calculated from scipy.stats function: 0.445\n"
     ]
    }
   ],
   "source": [
    "skew = stats.skew(Rain_Month)\n",
    "print(f\"The skewness calculated from scipy.stats function: {skew:.3f}\")"
   ]
  },
  {
   "cell_type": "code",
   "execution_count": null,
   "metadata": {},
   "outputs": [],
   "source": []
  }
 ],
 "metadata": {
  "kernelspec": {
   "display_name": "Python 3 (ipykernel)",
   "language": "python",
   "name": "python3"
  },
  "language_info": {
   "codemirror_mode": {
    "name": "ipython",
    "version": 3
   },
   "file_extension": ".py",
   "mimetype": "text/x-python",
   "name": "python",
   "nbconvert_exporter": "python",
   "pygments_lexer": "ipython3",
   "version": "3.8.8"
  }
 },
 "nbformat": 4,
 "nbformat_minor": 4
}
