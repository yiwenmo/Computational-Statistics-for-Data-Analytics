{
 "cells": [
  {
   "cell_type": "markdown",
   "id": "c768e2f3",
   "metadata": {},
   "source": [
    "## Homework 03: due 22:00, Wednesday, October 26, 2022\n",
    "\n",
    "### -\tPlease work on this Jupyter notebook directly.\n",
    "### -\tName a folder using your student id and Assignment number (e.g., b88501045-HW3), put all the python scripts and notebook files into the folder and zip the folder (e.g., b88501045-HW3.zip).\n",
    "### - Submit the homework directly through the NTU COOL course website.\n"
   ]
  },
  {
   "cell_type": "markdown",
   "id": "ee0691f5",
   "metadata": {},
   "source": [
    "#### 0. Import essential modules"
   ]
  },
  {
   "cell_type": "code",
   "execution_count": 1,
   "id": "c46f1dc5",
   "metadata": {},
   "outputs": [],
   "source": [
    "import pandas as pd\n",
    "import numpy as np\n",
    "import random\n",
    "import scipy.stats as stats\n",
    "import math"
   ]
  },
  {
   "cell_type": "markdown",
   "id": "7ed3d08a",
   "metadata": {},
   "source": [
    "#### 1. (30%) Consider the following dataset, sampled from a distribution H. We would like to know the confidence intervals for some of their given statistical properties."
   ]
  },
  {
   "cell_type": "code",
   "execution_count": 2,
   "id": "737af2d9",
   "metadata": {},
   "outputs": [],
   "source": [
    "samples = [28.82, 22.00, 24.89, 31.20, 29.34, 15.11, 24.75, 19.24, 19.48,\n",
    "       22.05, 20.72, 27.27, 23.81, 20.61, 22.22, 21.67, 27.47, 18.97,\n",
    "       21.57, 15.73,  7.24, 23.27, 24.32, 16.29, 31.35, 12.73, 20.23,\n",
    "       19.06, 27.66, 27.35, 20.77, 21.89, 15.56, 10.10, 18.26, 20.78,\n",
    "       26.15, 26.01, 18.06, 18.49]"
   ]
  },
  {
   "cell_type": "markdown",
   "id": "c86511e5",
   "metadata": {},
   "source": [
    "#### Please complete the following tasks."
   ]
  },
  {
   "cell_type": "markdown",
   "id": "a4f7554a",
   "metadata": {},
   "source": [
    "##### 1.1 (10%) Assuming that the population standard deviation is well estimated by the sample standard deviation, find the 95% (two-sided) confidence level for the population mean.\n",
    "\n",
    "#### If the population $\\sigma$ is known, we can use *Normal Distribution*  to find the confidence interval for population mean \n",
    "\n",
    "---\n",
    "$ Z =\\frac{\\bar{X}-\\mu}{\\sigma/\\sqrt{n}}$ with $n$ degree of freedom where population standard deviation equals to $\\sigma/\\sqrt{n}$."
   ]
  },
  {
   "cell_type": "code",
   "execution_count": 3,
   "id": "2323c86c",
   "metadata": {},
   "outputs": [
    {
     "name": "stdout",
     "output_type": "stream",
     "text": [
      "Population standard deviation is 0.8520617895840835\n"
     ]
    }
   ],
   "source": [
    "# Use the Normal Distribution calculate\n",
    "sample_mean = np.mean(samples)\n",
    "sample_stdev = np.std(samples, ddof = 1) # for sample the degree of freedom is n-1\n",
    "n = len(samples)\n",
    "\n",
    "population_stdev = sample_stdev/math.sqrt(n)\n",
    "print(f'Population standard deviation is {population_stdev}')"
   ]
  },
  {
   "cell_type": "code",
   "execution_count": 4,
   "id": "a9356626",
   "metadata": {},
   "outputs": [
    {
     "name": "stdout",
     "output_type": "stream",
     "text": [
      "The lower confidence limit is 19.8922\n",
      "The upper confidence limit is 23.2323\n",
      "The 95% (two-sided) confidence level for the population mean is 19.8922 to 23.2323\n"
     ]
    }
   ],
   "source": [
    "# two-sided 95% confidence interval\n",
    "# compute z\n",
    "z_25 = stats.norm.ppf(0.025)\n",
    "z_975 = stats.norm.ppf(0.975)\n",
    "\n",
    "# calculate quantile\n",
    "q_25 = sample_mean + z_25*population_stdev\n",
    "q_975 = sample_mean + z_975*population_stdev\n",
    "\n",
    "lower = format(q_25,'.4f')\n",
    "upper = format(q_975, '.4f')\n",
    "print('The lower confidence limit is', lower)\n",
    "print('The upper confidence limit is', upper)\n",
    "print(f'The 95% (two-sided) confidence level for the population mean is {lower} to {upper}')"
   ]
  },
  {
   "cell_type": "markdown",
   "id": "5b2c862c",
   "metadata": {},
   "source": [
    "##### 1.2 (10%) Assuming that the population standard deviation is unknown, estimate the 95% (two-sided) confidence level for the population mean.\n",
    "\n",
    "#### If the population $\\sigma$ is unknown, we can use *Student T Distribution*  to find the confidence interval for population mean \n",
    "\n",
    "---\n",
    "$ T =\\frac{\\bar{X}-\\mu}{\\hat{S_x}/\\sqrt{n}}$ with $n-1$ degree of freedom where population standard deviation equals to $\\hat{S_x}/\\sqrt{n}$."
   ]
  },
  {
   "cell_type": "code",
   "execution_count": 5,
   "id": "7a912844",
   "metadata": {},
   "outputs": [
    {
     "name": "stdout",
     "output_type": "stream",
     "text": [
      "The lower confidence limit is 19.8388\n",
      "The upper confidence limit is 23.2857\n",
      "The 95% (two-sided) confidence level with unknown population standard deviation for the population mean is 19.8388 to 23.2857\n"
     ]
    }
   ],
   "source": [
    "# degree of freedom in student t\n",
    "dof = n-1\n",
    "\n",
    "# compute t\n",
    "t_25_dof = stats.t.ppf(0.025, df=dof)\n",
    "t_975_dof = stats.t.ppf(0.975, df=dof)\n",
    "\n",
    "# calculate quantile\n",
    "q_25 = sample_mean + t_25_dof*sample_stdev/math.sqrt(n)\n",
    "q_975 = sample_mean + t_975_dof*sample_stdev/math.sqrt(n)\n",
    "\n",
    "lower = format(q_25,'.4f')\n",
    "upper = format(q_975, '.4f')\n",
    "\n",
    "print('The lower confidence limit is', lower)\n",
    "print('The upper confidence limit is', upper)\n",
    "print(f'The 95% (two-sided) confidence level with unknown population standard deviation for the population mean is {lower} to {upper}')"
   ]
  },
  {
   "cell_type": "markdown",
   "id": "f62cc664",
   "metadata": {},
   "source": [
    "##### 1.3 (10%) Find the 95% (two-sided) confidence level for the population standard deviation.\n",
    "#### To find the confidence interval for population *standard deviation*, we can use ${\\chi}^2$ Distribution \n",
    "\n",
    "---\n",
    "$ V =\\frac{\\hat{S_x}^2(n-1)}{\\sigma^2}$  with $n-1$ degree of freedom where equals to ${\\chi}^2$ distribution"
   ]
  },
  {
   "cell_type": "code",
   "execution_count": 6,
   "id": "9ea7a225",
   "metadata": {},
   "outputs": [
    {
     "name": "stdout",
     "output_type": "stream",
     "text": [
      "The degree of freedom is 39, The number of value 40.\n",
      "The lower confidence limit is 4.4144\n",
      "The upper confidence limit is 6.9196\n",
      "The 95% (two-sided) confidence level for the population standard deviation is 4.4144 to 6.9196\n"
     ]
    }
   ],
   "source": [
    "sample_var = sample_stdev*sample_stdev\n",
    "dof = n-1\n",
    "print(f'The degree of freedom is {dof}, The number of value {n}.')\n",
    "\n",
    "z_0025 = stats.chi2.ppf(0.025, df=dof) # chi-square distribution\n",
    "z_975 = stats.chi2.ppf(0.975, df=dof)  \n",
    "\n",
    "# confidence interval for population variance\n",
    "q_25 = sample_var*(n-1)/z_975\n",
    "q_975 = sample_var*(n-1)/z_0025\n",
    "\n",
    "# standard deviation\n",
    "lower = format(math.sqrt(q_25),'.4f')\n",
    "upper = format(math.sqrt(q_975),'.4f')\n",
    "\n",
    "print('The lower confidence limit is', lower)\n",
    "print('The upper confidence limit is', upper)\n",
    "print(f'The 95% (two-sided) confidence level for the population standard deviation is {lower} to {upper}')"
   ]
  },
  {
   "cell_type": "markdown",
   "id": "8caa4c35",
   "metadata": {},
   "source": [
    "#### 2. (30%) From the attached data file _ETH-Kobo_Jan.csv_, you can find historical January rainfall for 1993-2020 in Kobo, Ethiopia. Suppose that rainfall data follows the Gamma distribution, Gamma(α,β), where α=0.86 and β=74.28. Please complete the following tasks.\n",
    "\n",
    "For Gamma distribution, the calculations of moments are belowed:\n",
    "- $E(x) = \\alpha\\beta$\n",
    "- $Var(x) = \\alpha\\beta^2$"
   ]
  },
  {
   "cell_type": "code",
   "execution_count": 7,
   "id": "44900e6c",
   "metadata": {},
   "outputs": [
    {
     "data": {
      "text/html": [
       "<div>\n",
       "<style scoped>\n",
       "    .dataframe tbody tr th:only-of-type {\n",
       "        vertical-align: middle;\n",
       "    }\n",
       "\n",
       "    .dataframe tbody tr th {\n",
       "        vertical-align: top;\n",
       "    }\n",
       "\n",
       "    .dataframe thead th {\n",
       "        text-align: right;\n",
       "    }\n",
       "</style>\n",
       "<table border=\"1\" class=\"dataframe\">\n",
       "  <thead>\n",
       "    <tr style=\"text-align: right;\">\n",
       "      <th></th>\n",
       "      <th>date</th>\n",
       "      <th>Kobo</th>\n",
       "    </tr>\n",
       "  </thead>\n",
       "  <tbody>\n",
       "    <tr>\n",
       "      <th>0</th>\n",
       "      <td>1993/01</td>\n",
       "      <td>130.62800</td>\n",
       "    </tr>\n",
       "    <tr>\n",
       "      <th>1</th>\n",
       "      <td>1994/01</td>\n",
       "      <td>2.70096</td>\n",
       "    </tr>\n",
       "    <tr>\n",
       "      <th>2</th>\n",
       "      <td>1995/01</td>\n",
       "      <td>6.30129</td>\n",
       "    </tr>\n",
       "    <tr>\n",
       "      <th>3</th>\n",
       "      <td>1996/01</td>\n",
       "      <td>145.08200</td>\n",
       "    </tr>\n",
       "    <tr>\n",
       "      <th>4</th>\n",
       "      <td>1997/01</td>\n",
       "      <td>131.76000</td>\n",
       "    </tr>\n",
       "  </tbody>\n",
       "</table>\n",
       "</div>"
      ],
      "text/plain": [
       "      date       Kobo\n",
       "0  1993/01  130.62800\n",
       "1  1994/01    2.70096\n",
       "2  1995/01    6.30129\n",
       "3  1996/01  145.08200\n",
       "4  1997/01  131.76000"
      ]
     },
     "execution_count": 7,
     "metadata": {},
     "output_type": "execute_result"
    }
   ],
   "source": [
    "# import data\n",
    "data = './Data/ETH-Kobo_Jan.csv'\n",
    "\n",
    "# import and read csv file\n",
    "df = pd.read_csv(data)\n",
    "df.head()"
   ]
  },
  {
   "cell_type": "code",
   "execution_count": 8,
   "id": "023db123",
   "metadata": {},
   "outputs": [],
   "source": [
    "data = df['Kobo']\n",
    "sample_mean = np.mean(data)\n",
    "sample_std = np.std(data, ddof=1)"
   ]
  },
  {
   "cell_type": "code",
   "execution_count": 9,
   "id": "fa8f26ef",
   "metadata": {},
   "outputs": [
    {
     "name": "stdout",
     "output_type": "stream",
     "text": [
      "<class 'numpy.ndarray'> 100\n"
     ]
    }
   ],
   "source": [
    "nBootstraps = 100\n",
    "nSamples = len(data)\n",
    "\n",
    "# random seed is set to 0 (or any other integer) to ensure the sampling result remain the same\n",
    "np.random.seed(0)\n",
    "# Convert sample list to a numpy array\n",
    "np_samples = np.array(data)\n",
    "\n",
    "# arrays to record sample means and standard deviations resulting from resampling\n",
    "resamples_mean = np.zeros(nBootstraps)\n",
    "resamples_std = np.zeros(nBootstraps)\n",
    "\n",
    "for b in range(nBootstraps):\n",
    "    resamples_b = np.random.choice(np_samples, size = nSamples, replace=True)\n",
    "    \n",
    "    # Compute mean and standard deviation from the resampled array\n",
    "    mean_resamples_b = np.mean(resamples_b)\n",
    "    std_resamples_b = np.std(resamples_b, ddof = 1)\n",
    "    \n",
    "    resamples_mean[b] = mean_resamples_b\n",
    "    resamples_std[b] = std_resamples_b\n",
    "\n",
    "print(type(resamples_mean),len(resamples_mean))"
   ]
  },
  {
   "cell_type": "markdown",
   "id": "39172dff",
   "metadata": {},
   "source": [
    "##### 2.1 (15%) Find the 95% (two-sided) confidence level for the population mean using empirical bootstrapping (please set the number of bootstraps as 100).\n",
    "\n",
    "---\n",
    "Empirical bootstrapping need to compute **delta**.\n",
    "\n",
    "$\\delta_{i}^{*} = \\bar{x_{i}^{*}}-\\bar{x_i}$"
   ]
  },
  {
   "cell_type": "code",
   "execution_count": 10,
   "id": "f442cf39",
   "metadata": {},
   "outputs": [
    {
     "name": "stdout",
     "output_type": "stream",
     "text": [
      "Two-sided 95% CIs for mean using empirical bootstrapping\n",
      "The lower limit of CI for mean = 43.65\n",
      "The upper limit of CI for mean = 83.68\n"
     ]
    }
   ],
   "source": [
    "# compute delta\n",
    "delta_mean = resamples_mean - sample_mean\n",
    "delta_std = resamples_std - sample_std\n",
    "# print(type(delta_mean), type(delta_std))\n",
    "\n",
    "# Obtain the lower and upper CI limits\n",
    "CI_mean_lower, CI_mean_upper = sample_mean - np.percentile(delta_mean,[97.5,2.5])\n",
    "CI_std_lower, CI_std_upper = sample_std - np.percentile(delta_std,[97.5,2.5])\n",
    "\n",
    "print('Two-sided 95% CIs for mean using empirical bootstrapping')\n",
    "print('The lower limit of CI for mean =', format(CI_mean_lower, '.2f'))\n",
    "print('The upper limit of CI for mean =', format(CI_mean_upper, '.2f'))\n",
    "\n",
    "# print('Two-sided 95% CIs for standard deviation using empirical bootstrapping')\n",
    "# print('The lower limit of CI for standard deviation =', format(CI_std_lower, '.2f'))\n",
    "# print('The upper limit of CI for standard deviation =', format(CI_std_upper, '.2f'))"
   ]
  },
  {
   "cell_type": "markdown",
   "id": "60e79ec0",
   "metadata": {},
   "source": [
    "##### 2.2\t(15%) Find the 90% (two-sided) confidence level for the fitted parameters of the Gamma distribution using percentile bootstrapping (please set the number of bootstraps as 100).\n",
    "---\n",
    "Percentile bootstrapping no need to compute **delta**."
   ]
  },
  {
   "cell_type": "code",
   "execution_count": 11,
   "id": "ccdfa976",
   "metadata": {},
   "outputs": [
    {
     "name": "stdout",
     "output_type": "stream",
     "text": [
      "Two-sided 90% CIs for mean using percentile bootstrapping\n",
      "The lower limit of CI for mean = 49.69\n",
      "The upper limit of CI for mean = 82.37\n",
      "Two-sided 90% CIs for standard deviation using percentile bootstrapping\n",
      "The lower limit of CI for standard deviation = 46.54\n",
      "The upper limit of CI for standard deviation = 59.53\n"
     ]
    }
   ],
   "source": [
    "CI_mean_lower, CI_mean_upper = np.percentile(resamples_mean,[5.0, 95.0])\n",
    "CI_std_lower, CI_std_upper = np.percentile(resamples_std,[5.0, 95.0])\n",
    "\n",
    "print('Two-sided 90% CIs for mean using percentile bootstrapping')\n",
    "print('The lower limit of CI for mean =', format(CI_mean_lower, '.2f'))\n",
    "print('The upper limit of CI for mean =', format(CI_mean_upper, '.2f'))\n",
    "\n",
    "print('Two-sided 90% CIs for standard deviation using percentile bootstrapping')\n",
    "print('The lower limit of CI for standard deviation =', format(CI_std_lower, '.2f'))\n",
    "print('The upper limit of CI for standard deviation =', format(CI_std_upper, '.2f'))"
   ]
  },
  {
   "cell_type": "markdown",
   "id": "ac192ecd",
   "metadata": {},
   "source": [
    "#### 3. (50%) Taiwan had done a great job in preventing local transmission of COVID-19 for over a year. However, due to a series of unfortunate events, local infections outbroke in May 2020. In the attached file _Covid19_TPE.csv_, you can find the records for the number of infected from 2021/05/15 to 2021/06/13 for Taipei City. Your task is to evaluate if the ‘soft’ lockdown introduced on 2021/05/15 by the Taipei City  work. More specifically, considering the 14-day incubation period of COVID-19, we want to compare if there is a decrease in the average number of infections before and after the 14-day incubation period (i.e., the potential effective date starting on 2021/05/29 in Taipei). Please perform the statstical tests under the following different scenarios."
   ]
  },
  {
   "cell_type": "code",
   "execution_count": 12,
   "id": "e8f9437c",
   "metadata": {},
   "outputs": [
    {
     "data": {
      "text/html": [
       "<div>\n",
       "<style scoped>\n",
       "    .dataframe tbody tr th:only-of-type {\n",
       "        vertical-align: middle;\n",
       "    }\n",
       "\n",
       "    .dataframe tbody tr th {\n",
       "        vertical-align: top;\n",
       "    }\n",
       "\n",
       "    .dataframe thead th {\n",
       "        text-align: right;\n",
       "    }\n",
       "</style>\n",
       "<table border=\"1\" class=\"dataframe\">\n",
       "  <thead>\n",
       "    <tr style=\"text-align: right;\">\n",
       "      <th></th>\n",
       "      <th>date</th>\n",
       "      <th>Taipei_Infected</th>\n",
       "    </tr>\n",
       "  </thead>\n",
       "  <tbody>\n",
       "    <tr>\n",
       "      <th>0</th>\n",
       "      <td>15/05/2021</td>\n",
       "      <td>86</td>\n",
       "    </tr>\n",
       "    <tr>\n",
       "      <th>1</th>\n",
       "      <td>16/05/2021</td>\n",
       "      <td>93</td>\n",
       "    </tr>\n",
       "    <tr>\n",
       "      <th>2</th>\n",
       "      <td>17/05/2021</td>\n",
       "      <td>158</td>\n",
       "    </tr>\n",
       "    <tr>\n",
       "      <th>3</th>\n",
       "      <td>18/05/2021</td>\n",
       "      <td>103</td>\n",
       "    </tr>\n",
       "    <tr>\n",
       "      <th>4</th>\n",
       "      <td>19/05/2021</td>\n",
       "      <td>70</td>\n",
       "    </tr>\n",
       "  </tbody>\n",
       "</table>\n",
       "</div>"
      ],
      "text/plain": [
       "         date  Taipei_Infected\n",
       "0  15/05/2021               86\n",
       "1  16/05/2021               93\n",
       "2  17/05/2021              158\n",
       "3  18/05/2021              103\n",
       "4  19/05/2021               70"
      ]
     },
     "execution_count": 12,
     "metadata": {},
     "output_type": "execute_result"
    }
   ],
   "source": [
    "# import data\n",
    "data = './Data/Covid19_TPE.csv'\n",
    "\n",
    "# import and read csv file\n",
    "df = pd.read_csv(data)\n",
    "df.head()"
   ]
  },
  {
   "cell_type": "code",
   "execution_count": 13,
   "id": "595ab4f9",
   "metadata": {},
   "outputs": [
    {
     "data": {
      "image/png": "[encoded data removed]",
      "text/plain": [
       "<Figure size 576x360 with 1 Axes>"
      ]
     },
     "metadata": {
      "needs_background": "light"
     },
     "output_type": "display_data"
    }
   ],
   "source": [
    "import matplotlib.pyplot as plt\n",
    "\n",
    "#define the A and B data\n",
    "f_A = np.array(df[:14]['Taipei_Infected'])\n",
    "f_B = np.array(df[14:]['Taipei_Infected'])\n",
    "# print(f_A,f_B)\n",
    "\n",
    "# make 'date' as datetime format\n",
    "df['date'] = pd.to_datetime(df['date'], format='%d/%m/%Y')\n",
    "\n",
    "#plot the figure\n",
    "f = np.concatenate((f_A,f_B))\n",
    "plt.rcParams[\"figure.figsize\"] = (8,5)\n",
    "plt.plot(df['date'], f)\n",
    "plt.gcf().autofmt_xdate()\n",
    "plt.xlabel('Date')\n",
    "plt.ylabel('Infected number');"
   ]
  },
  {
   "cell_type": "markdown",
   "id": "42e90a18",
   "metadata": {},
   "source": [
    "##### 3.1 (10%) Scenario 1 (asymmetric case): $\\mu_A$ is known; $\\mu_B$ is not known; $\\sigma_B=\\sigma_A = \\sigma$\n",
    "\n",
    "1. Null Hypothesis $ H_0: \\mu_A = \\mu_B$\n",
    "2. Alternative Hypothesis $ H_1: \\mu_B> \\mu_A$\n",
    "3. Test statistic $Z = \\frac{\\bar{X}_{B}-\\mu_B}{\\sigma/\\sqrt{n}}$\n",
    "4. Distribution of test statistic $Z \\sim N(0,1)$\n",
    "5. Critical Region $\\Re$: $Z>z_\\alpha$ (e.g. $\\alpha=1$\\%)\n",
    "6. Evaluate $Z$ under $H_0$  & if $z_0>z_\\alpha \\Rightarrow$ Reject $H_0$\n",
    "7. $p$-value: $p(Z>z_0)$"
   ]
  },
  {
   "cell_type": "code",
   "execution_count": 14,
   "id": "be129756",
   "metadata": {},
   "outputs": [
    {
     "name": "stdout",
     "output_type": "stream",
     "text": [
      "Test statistic Z is -3.5208\n",
      "z_alpha is 2.3263\n",
      "No ground to reject H0\n"
     ]
    }
   ],
   "source": [
    "f_a_samplemean = np.mean(f_A)\n",
    "mu_a = f_a_samplemean\n",
    "f_a_samplestd = np.std(f_A, ddof=1)\n",
    "sigma = f_a_samplestd\n",
    "\n",
    "n = len(f_B)\n",
    "mu_b = mu_a\n",
    "f_b_samplemean = np.mean(f_B)\n",
    "\n",
    "Z = (f_b_samplemean-mu_b)/(sigma/np.sqrt(n))\n",
    "\n",
    "alpha = 0.01\n",
    "z_alpha = stats.norm.ppf(1-alpha)\n",
    "\n",
    "print(f'Test statistic Z is {Z:.4f}')\n",
    "print(f'z_alpha is {z_alpha:.4f}')\n",
    "\n",
    "if Z > z_alpha:\n",
    "    p_value = 1-stats.norm.cdf(Z)\n",
    "    print(f'Reject H0, and the p-value is {p_value:.4f}')\n",
    "else:\n",
    "    print('No ground to reject H0')"
   ]
  },
  {
   "cell_type": "markdown",
   "id": "154e27d2",
   "metadata": {},
   "source": [
    "##### 3.2 (10%) Scenario 2 (asymmetric case): $\\mu_A$ is known; $\\mu_B$ is not known; $\\sigma_B$ is not known\n",
    "\n",
    "1. Null Hypothesis $ H_0: \\mu_A = \\mu_B$\n",
    "2. Alternative Hypothesis $ H_1: \\mu_B> \\mu_A$\n",
    "3. Test statistic $T = \\frac{\\bar{X}_{B}-\\mu_B}{\\hat{S_x}_B/\\sqrt{n}}$\n",
    "4. Distribution of test statistic $T \\sim t(n-1)$\n",
    "5. Critical Region $\\Re$: $T>t_{n-1,\\alpha}$ (e.g. $\\alpha=1$\\%)\n",
    "6. Evaluate $T$ under $H_0$  & if $t_0>t_{n-1,\\alpha} \\Rightarrow$ Reject $H_0$\n",
    "7. $p$-value: $p(T>t_0)$"
   ]
  },
  {
   "cell_type": "code",
   "execution_count": 15,
   "id": "3c46f41a",
   "metadata": {},
   "outputs": [
    {
     "name": "stdout",
     "output_type": "stream",
     "text": [
      "test statistic T = -5.2536\n",
      "t_alpha = 2.6025\n",
      "No ground to reject H0.\n"
     ]
    }
   ],
   "source": [
    "f_a_samplemean = np.mean(f_A)\n",
    "mu_a = f_a_samplemean\n",
    "f_b_samplestd = np.std(f_B, ddof=1)\n",
    "f_b_samplemean = np.mean(f_B)\n",
    "\n",
    "n = len(f_B)\n",
    "mu_b = mu_a\n",
    "\n",
    "\n",
    "T = (f_b_samplemean - mu_b)/(f_b_samplestd/np.sqrt(n))\n",
    "\n",
    "df = len(f_B)-1\n",
    "\n",
    "alpha = 0.01\n",
    "t_alpha = stats.t.ppf(1-alpha,df)\n",
    "\n",
    "print(f'test statistic T = {T:.4f}')\n",
    "print(f't_alpha = {t_alpha:.4f}')\n",
    "    \n",
    "    \n",
    "p_value = 1 - stats.t.cdf(T,df)\n",
    "# print(p_value)\n",
    "\n",
    "\n",
    "if T > t_alpha:\n",
    "    p_value = 1 - stats.t.cdf(T,df)\n",
    "    print(f'Reject H0, and the p-value is {p_value:.4f}')\n",
    "else:\n",
    "    print(f'No ground to reject H0.')"
   ]
  },
  {
   "cell_type": "markdown",
   "id": "e354f3a2",
   "metadata": {},
   "source": [
    "##### 3.3 (10%) Scenario 3 (symmetric case): $\\mu_A$ is not known; $\\mu_B$ is not known; $\\sigma_B$ is known; $\\sigma_A$ is known\n",
    "1. Null Hypothesis: $ H_0: \\mu_A = \\mu_B$\n",
    "2. Alternative Hypothesis: $ H_1: \\mu_A \\neq \\mu_B$\n",
    "3. Test statistic: $Z = \\frac{(\\bar{X}_A - \\bar{X}_B)-(\\mu_A-\\mu_B)}{\\sigma_{{\\bar{X}_A} -{\\bar{X}_B}} }$\n",
    "4. Distribution of test statistic: $Z \\sim N(0,1)$\n",
    "5. Critical Region $\\Re$: $|Z|>z_{\\alpha/2}$ (e.g. $\\alpha=5$\\%)\n",
    "6. Evaluate $Z$ under $H_0$: if $|z_0|>z_{\\alpha/2} \\Rightarrow$ Reject $H_0$\n",
    "7. $p$-value & $p(|Z|>z_0)$\n",
    "\n",
    "where $\\sigma_{{\\bar{X}_A} -{\\bar{X}_B}} = \\sqrt{\\frac{\\sigma_A^2}{n_A} +\\frac {\\sigma_B^2}{n_B} }$ "
   ]
  },
  {
   "cell_type": "code",
   "execution_count": 16,
   "id": "5f899670",
   "metadata": {},
   "outputs": [
    {
     "name": "stdout",
     "output_type": "stream",
     "text": [
      "test statistic Z = 2.7905\n",
      "z_alpha = 2.3263\n",
      "Reject H0, and the p-value is 0.0026\n"
     ]
    }
   ],
   "source": [
    "f_a_samplemean = np.mean(f_A)\n",
    "f_a_samplestd = np.std(f_A, ddof=1)\n",
    "sigma_a = f_a_samplestd\n",
    "\n",
    "f_b_samplestd = np.std(f_B, ddof=1)\n",
    "f_b_samplemean = np.mean(f_B)\n",
    "sigma_b = f_b_samplestd\n",
    "\n",
    "n_a = len(f_A)\n",
    "n_b = len(f_B)\n",
    "\n",
    "sigma_A_B = np.sqrt((sigma_a*sigma_a/n_a) + (sigma_b*sigma_b/n_b))\n",
    "\n",
    "Z = (f_a_samplemean-f_b_samplemean)/sigma_A_B\n",
    "\n",
    "alpha = 0.01\n",
    "z_alpha = stats.norm.ppf(1-alpha)\n",
    "\n",
    "print(f'test statistic Z = {Z:.4f}')\n",
    "print(f'z_alpha = {z_alpha:.4f}')\n",
    "p_value = 1-stats.norm.cdf(Z)\n",
    "\n",
    "if Z > z_alpha:\n",
    "    print(f'Reject H0, and the p-value is {p_value:.4f}')\n",
    "else:\n",
    "    print(f'No ground to reject H0.')"
   ]
  },
  {
   "cell_type": "markdown",
   "id": "395f6366",
   "metadata": {},
   "source": [
    "##### 3.4 (10%) Scenario 4 (symmetric case): $\\mu_A$ is not known; $\\mu_B$ is not known; $\\sigma_B= \\sigma_A = \\sigma$ is not known\n",
    "1. Null Hypothesis: $ H_0: \\mu_A = \\mu_B$\n",
    "2. Alternative Hypothesis: $ H_1: \\mu_A > \\mu_B$\n",
    "3. Test statistic: $t = \\frac{ (\\bar{X}_A - \\bar{X}_B)-(\\mu_A-\\mu_B)} {\\widehat{S}_{X_A,X_B} \\sqrt{\\frac{1}{n_A} +\\frac{1}{n_B} } } $\n",
    "4. Distribution of test statistic: $T \\sim t(n_A +n_B -2)$\n",
    "5. Critical Region $\\Re$: $T>t_{n_A+n_B-2,\\alpha}$\n",
    "6. Evaluate $T$ under $H_0$:if $t_0>t_{n_A+n_B-2,\\alpha} \\Rightarrow$ Reject $H_0$\n",
    "7. $p$-value: $p(T>t_0)$\n",
    "\n",
    "where $\\widehat{S}_{X_A,X_B}^2 =  \\frac{(n_A-1) \\widehat{S}_{X_A}^2 +(n_B-1) \\widehat{S}_{X_B}^2  }{n_A + n_B - 2}$"
   ]
  },
  {
   "cell_type": "code",
   "execution_count": 17,
   "id": "b3f78d7d",
   "metadata": {},
   "outputs": [
    {
     "name": "stdout",
     "output_type": "stream",
     "text": [
      "test statistic T = 2.8648\n",
      "t_alpha = 2.4671\n",
      "Reject H0, and the p-value is 0.0039\n"
     ]
    }
   ],
   "source": [
    "f_a_samplemean = np.mean(f_A)\n",
    "f_a_samplestd = np.std(f_A, ddof=1)\n",
    "\n",
    "f_b_samplemean = np.mean(f_B)\n",
    "f_b_samplestd = np.std(f_B, ddof=1)\n",
    "\n",
    "n_a = len(f_A)\n",
    "n_b = len(f_B)\n",
    "\n",
    "stdev_sample_A_B = np.sqrt((((n_a-1)*f_a_samplestd*f_a_samplestd) + ((n_b-1)*f_b_samplestd*f_b_samplestd))/(n_a+n_b-2))\n",
    "\n",
    "T = np.abs((f_a_samplemean - f_b_samplemean))/(stdev_sample_A_B*np.sqrt(1/n_a+1/n_b))\n",
    "\n",
    "df = n_a+n_b-2\n",
    "\n",
    "alpha = 0.01\n",
    "t_alpha = stats.t.ppf(1-alpha,df)\n",
    "\n",
    "print(f'test statistic T = {T:.4f}')\n",
    "print(f't_alpha = {t_alpha:.4f}')\n",
    "\n",
    "p_value = 1-stats.t.cdf(T,df)\n",
    "\n",
    "if T > t_alpha:\n",
    "    print(f'Reject H0, and the p-value is {p_value:.4f}')\n",
    "else:\n",
    "    print(f'No ground to reject H0.')"
   ]
  },
  {
   "cell_type": "markdown",
   "id": "488c1975",
   "metadata": {},
   "source": [
    "##### 3.5 (10%) Scenario 5 (symmetric case): $\\mu_A$ is not known; $\\mu_B$ is not known; $\\sigma_B$ is not known; $\\sigma_A$ is not known\n",
    "1. Null Hypothesis: $ H_0: \\mu_A = \\mu_B$\n",
    "2. Alternative Hypothesis: $ H_1: \\mu_A > \\mu_B$\n",
    "3. Test statistic: $R = \\frac{ (\\bar{X}_A - \\bar{X}_B)-(\\mu_A-\\mu_B)} { \\sqrt{\\frac{\\hat{S_x}_{A}^2 }{n_A} +\\frac{\\hat{S_x}_{B}^2}{n_B} } }  $\n",
    "4. Distribution of test statistic: $R \\sim t(\\nu)$\n",
    "5. Critical Region $\\Re$: $R>t_{\\nu,\\alpha}$\n",
    "6. Evaluate $R$ under $H_0$: if $r_0>t_{\\nu,\\alpha} \\Rightarrow$ Reject $H_0$\n",
    "7. $p$-value: $p(R>r_0)$\n",
    "\n",
    "$\\nu \\approx  \\left( \\frac{\\hat{S_x}_{A}^2 }{n_A} +\\frac{\\hat{S_x}_{B}^2}{n_B} \\right)^2 / \\left[ \\frac{1}{n_A-1} \\left( \\frac{\\hat{S_x}_{A}^2 }{n_A} \\right)^2 + \\frac{1}{n_B-1} \\left( \\frac{\\hat{S_x}_{B}^2 }{n_B} \\right)^2 \\right]$\n"
   ]
  },
  {
   "cell_type": "code",
   "execution_count": 18,
   "id": "a5036ce7",
   "metadata": {},
   "outputs": [
    {
     "name": "stdout",
     "output_type": "stream",
     "text": [
      "test statistic T = 2.7905\n",
      "t_alpha = 2.5062\n",
      "Reject H0, and the p-value is 0.0053\n"
     ]
    }
   ],
   "source": [
    "f_a_samplemean= np.mean(f_A)\n",
    "f_a_samplestd = np.std(f_A, ddof=1)\n",
    "\n",
    "f_b_samplemean = np.mean(f_B)\n",
    "f_b_samplestd = np.std(f_B, ddof=1)\n",
    "\n",
    "n_a = len(f_A)\n",
    "n_b = len(f_B)\n",
    "\n",
    "S_xA_n = f_a_samplestd*f_a_samplestd/n_a\n",
    "S_xB_n = f_b_samplestd*f_b_samplestd/n_b\n",
    "\n",
    "R = np.abs((f_a_samplemean - f_b_samplemean))/np.sqrt(S_xA_n + S_xB_n)\n",
    "\n",
    "nu = (S_xA_n+S_xB_n)**2/(S_xA_n*S_xA_n/(n_a-1) + S_xB_n*S_xB_n/(n_b-1))\n",
    "\n",
    "alpha = 0.01\n",
    "t_alpha = stats.t.ppf(1-alpha,nu)\n",
    "\n",
    "print(f'test statistic T = {R:.4f}')\n",
    "print(f't_alpha = {t_alpha:.4f}')\n",
    "\n",
    "p_value = 1-stats.t.cdf(R,nu)\n",
    "\n",
    "if R > t_alpha:\n",
    "    \n",
    "    print(f'Reject H0, and the p-value is {p_value:.4f}')\n",
    "else:\n",
    "    print(f'No ground to reject H0, and the p-value is {p_value:.4f}')"
   ]
  },
  {
   "cell_type": "code",
   "execution_count": null,
   "id": "2c38fa3a",
   "metadata": {},
   "outputs": [],
   "source": []
  }
 ],
 "metadata": {
  "kernelspec": {
   "display_name": "Python 3 (ipykernel)",
   "language": "python",
   "name": "python3"
  },
  "language_info": {
   "codemirror_mode": {
    "name": "ipython",
    "version": 3
   },
   "file_extension": ".py",
   "mimetype": "text/x-python",
   "name": "python",
   "nbconvert_exporter": "python",
   "pygments_lexer": "ipython3",
   "version": "3.8.8"
  }
 },
 "nbformat": 4,
 "nbformat_minor": 5
}
