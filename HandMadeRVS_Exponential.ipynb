{
 "cells": [
  {
   "cell_type": "code",
   "execution_count": 1,
   "metadata": {},
   "outputs": [],
   "source": [
    "import random as rnd\n",
    "import math"
   ]
  },
  {
   "cell_type": "markdown",
   "metadata": {},
   "source": [
    "### A practice for generating random variables without using scipy.stats\n",
    "\n",
    "#### General idea: CDF is uniformly distributed, so we can sample a random number (between 0 and 1) to be cdf and convert it to the associated \n"
   ]
  },
  {
   "cell_type": "markdown",
   "metadata": {},
   "source": [
    "#### Define a function generating an expoentially-distributed random variable"
   ]
  },
  {
   "cell_type": "markdown",
   "metadata": {},
   "source": [
    "#### Exponential distribution PDF:\n",
    "\n",
    "$f(x) = \\lambda e^{-\\lambda x}$\n",
    "\n",
    "#### Expoential distribution CDF:\n",
    "\n",
    "$F(x) = 1 - e^{-\\lambda x}$\n",
    "\n",
    "#### Exponential distribution PPF:\n",
    "\n",
    "$x = \\frac{-ln(1-F(x))}{\\lambda}$"
   ]
  },
  {
   "cell_type": "code",
   "execution_count": 2,
   "metadata": {},
   "outputs": [],
   "source": [
    "def exponential_rvs(para_lambda):\n",
    "    \"\"\"Return an Exponential-distributed random variate\"\"\"\n",
    "    p = rnd.uniform(0, 1)               # F(x)=CDF\n",
    "    r_exp = -math.log(1-p)/para_lambda  # x\n",
    "    \n",
    "    return r_exp, p\n",
    "    "
   ]
  },
  {
   "cell_type": "code",
   "execution_count": 3,
   "metadata": {},
   "outputs": [],
   "source": [
    "usr_lambda = 2.0"
   ]
  },
  {
   "cell_type": "code",
   "execution_count": 4,
   "metadata": {},
   "outputs": [
    {
     "name": "stdout",
     "output_type": "stream",
     "text": [
      "A exponeitally-distributed random variable 0.0025 is sampled with CDF 0.0049\n"
     ]
    }
   ],
   "source": [
    "rvs, cdf = exponential_rvs(usr_lambda)\n",
    "\n",
    "print(f'A exponeitally-distributed random variable {rvs:.4f} is sampled with CDF {cdf:.4f}')"
   ]
  },
  {
   "cell_type": "markdown",
   "metadata": {},
   "source": [
    "#### Let's verify it with Scipy.stats"
   ]
  },
  {
   "cell_type": "code",
   "execution_count": 5,
   "metadata": {},
   "outputs": [],
   "source": [
    "#Import exponential distribution module\n",
    "from scipy.stats import expon"
   ]
  },
  {
   "cell_type": "code",
   "execution_count": 6,
   "metadata": {},
   "outputs": [
    {
     "name": "stdout",
     "output_type": "stream",
     "text": [
      "The cdf of random variable 0.0025 is 0.0049\n"
     ]
    }
   ],
   "source": [
    "# Compute CDF from the sampled random variable and the given $\\lambda$\n",
    "\n",
    "# Note that the definition of 'scale' parameter in Scipy.stats.expon is the 'inverse' lambda  \n",
    "cdf_verified = expon.cdf(rvs, scale=1/usr_lambda)\n",
    "\n",
    "print(f'The cdf of random variable {rvs:.4f} is {cdf_verified:.4f}')"
   ]
  },
  {
   "cell_type": "code",
   "execution_count": 7,
   "metadata": {},
   "outputs": [
    {
     "name": "stdout",
     "output_type": "stream",
     "text": [
      "The percentile of verified cdf 0.0049 is 0.0025\n"
     ]
    }
   ],
   "source": [
    "ppf = expon.ppf(cdf_verified, scale=1/usr_lambda)\n",
    "\n",
    "print(f'The percentile of verified cdf {cdf_verified:.4f} is {ppf:.4f}')"
   ]
  },
  {
   "cell_type": "code",
   "execution_count": null,
   "metadata": {},
   "outputs": [],
   "source": []
  }
 ],
 "metadata": {
  "kernelspec": {
   "display_name": "Python 3 (ipykernel)",
   "language": "python",
   "name": "python3"
  },
  "language_info": {
   "codemirror_mode": {
    "name": "ipython",
    "version": 3
   },
   "file_extension": ".py",
   "mimetype": "text/x-python",
   "name": "python",
   "nbconvert_exporter": "python",
   "pygments_lexer": "ipython3",
   "version": "3.8.8"
  }
 },
 "nbformat": 4,
 "nbformat_minor": 4
}
